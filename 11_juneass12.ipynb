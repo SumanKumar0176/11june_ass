{
 "cells": [
  {
   "cell_type": "code",
   "execution_count": 1,
   "id": "96458ef1-7f71-467a-8a76-23c362659d0c",
   "metadata": {},
   "outputs": [
    {
     "data": {
      "text/plain": [
       "'1. What is a lambda function in Python, and how does it differ from a regular function?'"
      ]
     },
     "execution_count": 1,
     "metadata": {},
     "output_type": "execute_result"
    }
   ],
   "source": [
    "\"\"\"1. What is a lambda function in Python, and how does it differ from a regular function?\"\"\""
   ]
  },
  {
   "cell_type": "code",
   "execution_count": 2,
   "id": "0f31f42a-b091-4d04-b910-e1da23ed33e2",
   "metadata": {},
   "outputs": [
    {
     "data": {
      "text/plain": [
       "'\\nAns:\\n a lambda function, also known as an anonymous function, is a small, one-line function without a name.\\n \\n both the lambda function and the regular function perform the same multiplication operation. However, \\n the lambda function is defined without a name, using a compact syntax, and can be called immediately.\\n The regular function, on the other hand, has a name and can be called explicitly using that name.\\n\\nLambda functions are useful for creating simple, one-time functions on the fly, whereas regular functions \\nprovide more flexibility and are suitable for complex operations and reusable code.\\n\\n'"
      ]
     },
     "execution_count": 2,
     "metadata": {},
     "output_type": "execute_result"
    }
   ],
   "source": [
    "\"\"\"\n",
    "Ans:\n",
    " a lambda function, also known as an anonymous function, is a small, one-line function without a name.\n",
    " \n",
    " both the lambda function and the regular function perform the same multiplication operation. However, \n",
    " the lambda function is defined without a name, using a compact syntax, and can be called immediately.\n",
    " The regular function, on the other hand, has a name and can be called explicitly using that name.\n",
    "\n",
    "Lambda functions are useful for creating simple, one-time functions on the fly, whereas regular functions \n",
    "provide more flexibility and are suitable for complex operations and reusable code.\n",
    "\n",
    "\"\"\""
   ]
  },
  {
   "cell_type": "code",
   "execution_count": 3,
   "id": "2150de57-4466-44eb-a6d5-a248b1f2d7f1",
   "metadata": {},
   "outputs": [
    {
     "data": {
      "text/plain": [
       "'\\n2. Can a lambda function in Python have multiple arguments? If yes, how can you define and use\\nthem?\\n'"
      ]
     },
     "execution_count": 3,
     "metadata": {},
     "output_type": "execute_result"
    }
   ],
   "source": [
    "\"\"\"\n",
    "2. Can a lambda function in Python have multiple arguments? If yes, how can you define and use\n",
    "them?\n",
    "\"\"\""
   ]
  },
  {
   "cell_type": "code",
   "execution_count": 4,
   "id": "e3184181-a2f0-4d20-85b5-3588188f6365",
   "metadata": {},
   "outputs": [
    {
     "data": {
      "text/plain": [
       "\"\\nAns:\\nYes, a lambda function in Python can have multiple arguments. You can define and use multiple arguments in a lambda function by specifying them \\nin the argument list, separated by commas.\\n\\nmultiply = lambda x, y: x * y\\nprint(multiply(2, 3))  # Output: 6\\n\\naddition = lambda a, b, c: a + b + c\\nprint(addition(1, 2, 3))  # Output: 6\\n\\nIt's important to note that lambda functions are limited to a single expression, so the body of the function should be a single line of code.\\nIf you need to perform more complex operations or include multiple statements, it's advisable to use a regular function defined with the def keyword.\\n\\n\""
      ]
     },
     "execution_count": 4,
     "metadata": {},
     "output_type": "execute_result"
    }
   ],
   "source": [
    "\"\"\"\n",
    "Ans:\n",
    "Yes, a lambda function in Python can have multiple arguments. You can define and use multiple arguments in a lambda function by specifying them \n",
    "in the argument list, separated by commas.\n",
    "\n",
    "multiply = lambda x, y: x * y\n",
    "print(multiply(2, 3))  # Output: 6\n",
    "\n",
    "addition = lambda a, b, c: a + b + c\n",
    "print(addition(1, 2, 3))  # Output: 6\n",
    "\n",
    "It's important to note that lambda functions are limited to a single expression, so the body of the function should be a single line of code.\n",
    "If you need to perform more complex operations or include multiple statements, it's advisable to use a regular function defined with the def keyword.\n",
    "\n",
    "\"\"\""
   ]
  },
  {
   "cell_type": "code",
   "execution_count": 5,
   "id": "6acf57a7-c01f-4141-b9f5-2ef7a4a1b0a5",
   "metadata": {},
   "outputs": [
    {
     "data": {
      "text/plain": [
       "'\\n3. How are lambda functions typically used in Python? Provide an example use case.\\n'"
      ]
     },
     "execution_count": 5,
     "metadata": {},
     "output_type": "execute_result"
    }
   ],
   "source": [
    "\"\"\"\n",
    "3. How are lambda functions typically used in Python? Provide an example use case.\n",
    "\"\"\""
   ]
  },
  {
   "cell_type": "code",
   "execution_count": 6,
   "id": "7b103ceb-9c71-4ef9-8ba2-206509040b8c",
   "metadata": {},
   "outputs": [
    {
     "data": {
      "text/plain": [
       "'\\n\\nLambda functions in Python are commonly used in conjunction with higher-order functions like map(), filter(), and reduce(), which expect a \\nfunction as an argument\\n\\ni.Using map()\\nThe map() function applies a given function to each element of an iterable and returns an iterator with the results.\\n\\n\\nnumbers = [1, 2, 3, 4, 5]\\ndoubled_numbers = map(lambda x: x * 2, numbers)\\nprint(list(doubled_numbers))  # Output: [2, 4, 6, 8, 10]\\n\\n\\nii.Using filter()\\nThe filter() function creates an iterator from elements of an iterable for which a given function returns True.\\nnumbers = [1, 2, 3, 4, 5]\\neven_numbers = filter(lambda x: x % 2 == 0, numbers)\\nprint(list(even_numbers))  # Output: [2, 4]\\n\\nii.using reduce()\\nThe reduce() function in Python is used to apply a rolling computation to a sequence of elements.\\nIt takes a function and an iterable as arguments and applies the function to the elements in a cumulative way.\\nfrom functools import reduce\\n\\nnumbers = [1, 2, 3, 4, 5]\\nproduct = reduce(lambda x, y: x * y, numbers)\\nprint(product)  # Output: 120\\n\\n'"
      ]
     },
     "execution_count": 6,
     "metadata": {},
     "output_type": "execute_result"
    }
   ],
   "source": [
    "\"\"\"\n",
    "\n",
    "Lambda functions in Python are commonly used in conjunction with higher-order functions like map(), filter(), and reduce(), which expect a \n",
    "function as an argument\n",
    "\n",
    "i.Using map()\n",
    "The map() function applies a given function to each element of an iterable and returns an iterator with the results.\n",
    "\n",
    "\n",
    "numbers = [1, 2, 3, 4, 5]\n",
    "doubled_numbers = map(lambda x: x * 2, numbers)\n",
    "print(list(doubled_numbers))  # Output: [2, 4, 6, 8, 10]\n",
    "\n",
    "\n",
    "ii.Using filter()\n",
    "The filter() function creates an iterator from elements of an iterable for which a given function returns True.\n",
    "numbers = [1, 2, 3, 4, 5]\n",
    "even_numbers = filter(lambda x: x % 2 == 0, numbers)\n",
    "print(list(even_numbers))  # Output: [2, 4]\n",
    "\n",
    "ii.using reduce()\n",
    "The reduce() function in Python is used to apply a rolling computation to a sequence of elements.\n",
    "It takes a function and an iterable as arguments and applies the function to the elements in a cumulative way.\n",
    "from functools import reduce\n",
    "\n",
    "numbers = [1, 2, 3, 4, 5]\n",
    "product = reduce(lambda x, y: x * y, numbers)\n",
    "print(product)  # Output: 120\n",
    "\n",
    "\"\"\"\n"
   ]
  },
  {
   "cell_type": "code",
   "execution_count": 7,
   "id": "a8680e1c-d8b6-4391-b755-0452b099507a",
   "metadata": {},
   "outputs": [
    {
     "data": {
      "text/plain": [
       "'\\n4. What are the advantages and limitations of lambda functions compared to regular functions in\\nPython?\\n'"
      ]
     },
     "execution_count": 7,
     "metadata": {},
     "output_type": "execute_result"
    }
   ],
   "source": [
    "\"\"\"\n",
    "4. What are the advantages and limitations of lambda functions compared to regular functions in\n",
    "Python?\n",
    "\"\"\""
   ]
  },
  {
   "cell_type": "code",
   "execution_count": 8,
   "id": "69a8c9bf-6c97-47a6-b362-a02578182838",
   "metadata": {},
   "outputs": [
    {
     "data": {
      "text/plain": [
       "\"\\nAdvantages of Lambda Functions:\\n\\ni.Concise Syntax: Lambda functions allow you to define small, anonymous functions in a compact and readable manner. They are useful for simple operations that don't require a full function definition.\\n\\nii.Convenience: Lambda functions are convenient for one-time use cases. You can define them directly at the point of use without the need for a separate function definition.\\n\\niii.Readability: Lambda functions can often improve the readability of your code by keeping the focus on the operation being performed rather than on the function name.\\n\\niv.Integration with Higher-Order Functions: Lambda functions work seamlessly with higher-order functions like map(), filter(), and reduce(). They allow you to define the function \\nto be applied to each element or the filtering condition inline.\\n\\n\\n\\nLimitations of Lambda Functions:\\n\\ni.Limited Complexity: Lambda functions are designed for simple and short expressions. They cannot contain multiple statements or complex logic. Regular functions are better suited \\nfor more intricate operations.\\n\\nii.No Statements: Lambda functions can only contain expressions and cannot include statements like print(), if-else, or loops. Statements require multiple lines of code, which is not\\nallowed in a lambda function.\\n\\niii.Lack of Name: Lambda functions are anonymous; they do not have a name. This can make it harder to reuse them or refer to them explicitly.\\n\\niv.Debugging Difficulties: Since lambda functions lack a name, debugging them can be more challenging as they don't provide clear identifiers in tracebacks.\\n\\n\""
      ]
     },
     "execution_count": 8,
     "metadata": {},
     "output_type": "execute_result"
    }
   ],
   "source": [
    "\"\"\"\n",
    "Advantages of Lambda Functions:\n",
    "\n",
    "i.Concise Syntax: Lambda functions allow you to define small, anonymous functions in a compact and readable manner. They are useful for simple operations that don't require a full function definition.\n",
    "\n",
    "ii.Convenience: Lambda functions are convenient for one-time use cases. You can define them directly at the point of use without the need for a separate function definition.\n",
    "\n",
    "iii.Readability: Lambda functions can often improve the readability of your code by keeping the focus on the operation being performed rather than on the function name.\n",
    "\n",
    "iv.Integration with Higher-Order Functions: Lambda functions work seamlessly with higher-order functions like map(), filter(), and reduce(). They allow you to define the function \n",
    "to be applied to each element or the filtering condition inline.\n",
    "\n",
    "\n",
    "\n",
    "Limitations of Lambda Functions:\n",
    "\n",
    "i.Limited Complexity: Lambda functions are designed for simple and short expressions. They cannot contain multiple statements or complex logic. Regular functions are better suited \n",
    "for more intricate operations.\n",
    "\n",
    "ii.No Statements: Lambda functions can only contain expressions and cannot include statements like print(), if-else, or loops. Statements require multiple lines of code, which is not\n",
    "allowed in a lambda function.\n",
    "\n",
    "iii.Lack of Name: Lambda functions are anonymous; they do not have a name. This can make it harder to reuse them or refer to them explicitly.\n",
    "\n",
    "iv.Debugging Difficulties: Since lambda functions lack a name, debugging them can be more challenging as they don't provide clear identifiers in tracebacks.\n",
    "\n",
    "\"\"\""
   ]
  },
  {
   "cell_type": "code",
   "execution_count": 9,
   "id": "2541ec8c-c7f9-4084-a154-b92c5eb614b3",
   "metadata": {},
   "outputs": [
    {
     "data": {
      "text/plain": [
       "'\\n5. Are lambda functions in Python able to access variables defined outside of their own scope?\\nExplain with an example.'"
      ]
     },
     "execution_count": 9,
     "metadata": {},
     "output_type": "execute_result"
    }
   ],
   "source": [
    "\"\"\"\n",
    "5. Are lambda functions in Python able to access variables defined outside of their own scope?\n",
    "Explain with an example.\"\"\""
   ]
  },
  {
   "cell_type": "code",
   "execution_count": 10,
   "id": "244d67bf-37a4-438e-bb01-44b544d2c3f8",
   "metadata": {},
   "outputs": [
    {
     "data": {
      "text/plain": [
       "\"\\nYes, lambda functions in Python can access variables defined outside of their own scope. This concept is known as variable capturing or closure. Lambda functions can access variables from \\nthe surrounding scope in which they are defined.\\n\\ndef outer_function():\\n    x = 10\\n    \\n    # Lambda function accessing the variable 'x' from the outer scope\\n    lambda_func = lambda y: x + y\\n    \\n    return lambda_func\\n\\n# Calling the outer function to get the lambda function\\nmy_lambda = outer_function()\\n\\n# Using the lambda function\\nresult = my_lambda(5)\\nprint(result)  # Output: 15\\n\""
      ]
     },
     "execution_count": 10,
     "metadata": {},
     "output_type": "execute_result"
    }
   ],
   "source": [
    "\"\"\"\n",
    "Yes, lambda functions in Python can access variables defined outside of their own scope. This concept is known as variable capturing or closure. Lambda functions can access variables from \n",
    "the surrounding scope in which they are defined.\n",
    "\n",
    "def outer_function():\n",
    "    x = 10\n",
    "    \n",
    "    # Lambda function accessing the variable 'x' from the outer scope\n",
    "    lambda_func = lambda y: x + y\n",
    "    \n",
    "    return lambda_func\n",
    "\n",
    "# Calling the outer function to get the lambda function\n",
    "my_lambda = outer_function()\n",
    "\n",
    "# Using the lambda function\n",
    "result = my_lambda(5)\n",
    "print(result)  # Output: 15\n",
    "\"\"\""
   ]
  },
  {
   "cell_type": "code",
   "execution_count": 11,
   "id": "6c0104b0-8976-4ae0-9b0e-89ccb88cb372",
   "metadata": {},
   "outputs": [
    {
     "data": {
      "text/plain": [
       "'\\n6. Write a lambda function to calculate the square of a given number.\\n'"
      ]
     },
     "execution_count": 11,
     "metadata": {},
     "output_type": "execute_result"
    }
   ],
   "source": [
    "\"\"\"\n",
    "6. Write a lambda function to calculate the square of a given number.\n",
    "\"\"\""
   ]
  },
  {
   "cell_type": "code",
   "execution_count": 12,
   "id": "baa19ed6-0b73-4549-aad7-ee589e0bf010",
   "metadata": {},
   "outputs": [
    {
     "name": "stdout",
     "output_type": "stream",
     "text": [
      "25\n"
     ]
    }
   ],
   "source": [
    "square = lambda x: x ** 2\n",
    "result = square(5)\n",
    "print(result)  # Output: 25\n"
   ]
  },
  {
   "cell_type": "code",
   "execution_count": 13,
   "id": "18860005-3e91-4b2d-9d56-d2846cd5f0a7",
   "metadata": {},
   "outputs": [
    {
     "data": {
      "text/plain": [
       "'\\n7. Create a lambda function to find the maximum value in a list of integers.\\n'"
      ]
     },
     "execution_count": 13,
     "metadata": {},
     "output_type": "execute_result"
    }
   ],
   "source": [
    "\"\"\"\n",
    "7. Create a lambda function to find the maximum value in a list of integers.\n",
    "\"\"\""
   ]
  },
  {
   "cell_type": "code",
   "execution_count": 14,
   "id": "07271b33-ac79-4350-9188-75b61e6ac3b5",
   "metadata": {},
   "outputs": [
    {
     "name": "stdout",
     "output_type": "stream",
     "text": [
      "20\n"
     ]
    }
   ],
   "source": [
    "numbers = [10, 5, 8, 20, 13]\n",
    "\n",
    "max_value = lambda nums: max(nums)\n",
    "result = max_value(numbers)\n",
    "print(result)  # Output: 20\n"
   ]
  },
  {
   "cell_type": "code",
   "execution_count": 15,
   "id": "06eb6cdf-b4e4-4eb2-a6f6-84acc6a188b9",
   "metadata": {},
   "outputs": [
    {
     "data": {
      "text/plain": [
       "'\\n8. Implement a lambda function to filter out all the even numbers from a list of integers.\\n'"
      ]
     },
     "execution_count": 15,
     "metadata": {},
     "output_type": "execute_result"
    }
   ],
   "source": [
    "\"\"\"\n",
    "8. Implement a lambda function to filter out all the even numbers from a list of integers.\n",
    "\"\"\""
   ]
  },
  {
   "cell_type": "code",
   "execution_count": 16,
   "id": "ce0971e6-5ec0-46a3-a9c8-195ac823f9a4",
   "metadata": {},
   "outputs": [
    {
     "name": "stdout",
     "output_type": "stream",
     "text": [
      "[2, 4, 6, 8, 10]\n"
     ]
    }
   ],
   "source": [
    "numbers = [1, 2, 3, 4, 5, 6, 7, 8, 9, 10]\n",
    "\n",
    "filtered_numbers = list(filter(lambda x: x % 2 == 0, numbers))\n",
    "print(filtered_numbers)  # Output: [2, 4, 6, 8, 10]\n"
   ]
  },
  {
   "cell_type": "code",
   "execution_count": 17,
   "id": "de0e7d47-bf96-467c-98a4-4f8be7e632d6",
   "metadata": {},
   "outputs": [
    {
     "data": {
      "text/plain": [
       "'\\n9. Write a lambda function to sort a list of strings in ascending order based on the length of each\\nstring.\\n'"
      ]
     },
     "execution_count": 17,
     "metadata": {},
     "output_type": "execute_result"
    }
   ],
   "source": [
    "\"\"\"\n",
    "9. Write a lambda function to sort a list of strings in ascending order based on the length of each\n",
    "string.\n",
    "\"\"\""
   ]
  },
  {
   "cell_type": "code",
   "execution_count": 18,
   "id": "4a1252f0-4f5d-4530-9265-b8372c2b90d9",
   "metadata": {},
   "outputs": [
    {
     "name": "stdout",
     "output_type": "stream",
     "text": [
      "['date', 'apple', 'banana', 'cherry', 'elderberry']\n"
     ]
    }
   ],
   "source": [
    "strings = [\"apple\", \"banana\", \"cherry\", \"date\", \"elderberry\"]\n",
    "\n",
    "sorted_strings = sorted(strings, key=lambda x: len(x))\n",
    "print(sorted_strings)  # Output: ['date', 'apple', 'cherry', 'banana', 'elderberry']\n"
   ]
  },
  {
   "cell_type": "code",
   "execution_count": 19,
   "id": "4f0649b7-1ee2-48ac-9d5c-eac5b0f48d61",
   "metadata": {},
   "outputs": [
    {
     "data": {
      "text/plain": [
       "'\\n10. Create a lambda function that takes two lists as input and returns a new list containing the\\ncommon elements between the two lists.\\n'"
      ]
     },
     "execution_count": 19,
     "metadata": {},
     "output_type": "execute_result"
    }
   ],
   "source": [
    "\"\"\"\n",
    "10. Create a lambda function that takes two lists as input and returns a new list containing the\n",
    "common elements between the two lists.\n",
    "\"\"\""
   ]
  },
  {
   "cell_type": "code",
   "execution_count": 21,
   "id": "76004717-aa8d-4e2a-aec9-92c46bd01066",
   "metadata": {},
   "outputs": [
    {
     "name": "stdout",
     "output_type": "stream",
     "text": [
      "[23, 545]\n"
     ]
    }
   ],
   "source": [
    "lst1=[23,34,545,56,65]\n",
    "lst2=[23,43,545,343,35]\n",
    "sdf=list(filter(lambda x: x in lst2, lst1))\n",
    "print(sdf)"
   ]
  },
  {
   "cell_type": "code",
   "execution_count": 25,
   "id": "72246a06-a954-41c8-8c17-054dcbd69e91",
   "metadata": {},
   "outputs": [
    {
     "data": {
      "text/plain": [
       "'\\n11. Write a recursive function to calculate the factorial of a given positive integer.\\n'"
      ]
     },
     "execution_count": 25,
     "metadata": {},
     "output_type": "execute_result"
    }
   ],
   "source": [
    "\"\"\"\n",
    "11. Write a recursive function to calculate the factorial of a given positive integer.\n",
    "\"\"\""
   ]
  },
  {
   "cell_type": "code",
   "execution_count": 26,
   "id": "ccc848c4-9771-47e0-b9aa-054177d7b3ef",
   "metadata": {},
   "outputs": [
    {
     "name": "stdout",
     "output_type": "stream",
     "text": [
      "720\n"
     ]
    }
   ],
   "source": [
    "factorial = lambda n: 1 if n == 0 else n * factorial(n - 1)\n",
    "\n",
    "# Calculate the factorial of 6\n",
    "result = factorial(6)\n",
    "print(result)  # Output: 720\n"
   ]
  },
  {
   "cell_type": "code",
   "execution_count": 27,
   "id": "4163cce7-a181-46b7-bac0-d81f6214acb0",
   "metadata": {},
   "outputs": [
    {
     "data": {
      "text/plain": [
       "'\\n12. Implement a recursive function to compute the nth Fibonacci number.\\n'"
      ]
     },
     "execution_count": 27,
     "metadata": {},
     "output_type": "execute_result"
    }
   ],
   "source": [
    "\"\"\"\n",
    "12. Implement a recursive function to compute the nth Fibonacci number.\n",
    "\"\"\""
   ]
  },
  {
   "cell_type": "code",
   "execution_count": 28,
   "id": "249ffa69-90d5-4498-80c6-32097f5c1ed1",
   "metadata": {},
   "outputs": [
    {
     "name": "stdout",
     "output_type": "stream",
     "text": [
      "8\n"
     ]
    }
   ],
   "source": [
    "fibonacci = lambda n: n if n <= 1 else fibonacci(n - 1) + fibonacci(n - 2)\n",
    "\n",
    "result = fibonacci(6)\n",
    "print(result)  # Output: 8\n",
    "\n"
   ]
  },
  {
   "cell_type": "code",
   "execution_count": 29,
   "id": "ce353b86-a613-435f-b010-18ed9c65504e",
   "metadata": {},
   "outputs": [
    {
     "data": {
      "text/plain": [
       "'\\n13. Create a recursive function to find the sum of all the elements in a given list.\\n'"
      ]
     },
     "execution_count": 29,
     "metadata": {},
     "output_type": "execute_result"
    }
   ],
   "source": [
    "\"\"\"\n",
    "13. Create a recursive function to find the sum of all the elements in a given list.\n",
    "\"\"\"\n"
   ]
  },
  {
   "cell_type": "code",
   "execution_count": 30,
   "id": "510ab6fa-d679-4dec-bd4c-10635248e137",
   "metadata": {},
   "outputs": [
    {
     "name": "stdout",
     "output_type": "stream",
     "text": [
      "15\n"
     ]
    }
   ],
   "source": [
    "recursive_sum = lambda lst: 0 if len(lst) == 0 else lst[0] + recursive_sum(lst[1:])\n",
    "\n",
    "# Example usage\n",
    "my_list = [1, 2, 3, 4, 5]\n",
    "result = recursive_sum(my_list)\n",
    "print(result)\n"
   ]
  },
  {
   "cell_type": "code",
   "execution_count": 31,
   "id": "3370680b-9d9b-4853-88c7-ca939409ba57",
   "metadata": {},
   "outputs": [
    {
     "data": {
      "text/plain": [
       "'\\n14. Write a recursive function to determine whether a given string is a palindrome.\\n'"
      ]
     },
     "execution_count": 31,
     "metadata": {},
     "output_type": "execute_result"
    }
   ],
   "source": [
    "\"\"\"\n",
    "14. Write a recursive function to determine whether a given string is a palindrome.\n",
    "\"\"\""
   ]
  },
  {
   "cell_type": "code",
   "execution_count": 32,
   "id": "b55b9a2e-0159-4c5c-8caa-708965625c2f",
   "metadata": {},
   "outputs": [
    {
     "name": "stdout",
     "output_type": "stream",
     "text": [
      "True\n"
     ]
    }
   ],
   "source": [
    "is_palindrome = lambda string: len(string) <= 1 or (string[0] == string[-1] and is_palindrome(string[1:-1]))\n",
    "\n",
    "# Example usage\n",
    "my_string = \"racecar\"\n",
    "result = is_palindrome(my_string)\n",
    "print(result)\n"
   ]
  },
  {
   "cell_type": "code",
   "execution_count": 34,
   "id": "cc6ebace-7254-41e9-a82c-8a64b7529b7b",
   "metadata": {},
   "outputs": [
    {
     "data": {
      "text/plain": [
       "'\\n15. Implement a recursive function to find the greatest common divisor (GCD) of two positive integers.\\n'"
      ]
     },
     "execution_count": 34,
     "metadata": {},
     "output_type": "execute_result"
    }
   ],
   "source": [
    "\"\"\"\n",
    "15. Implement a recursive function to find the greatest common divisor (GCD) of two positive integers.\n",
    "\"\"\"\n"
   ]
  },
  {
   "cell_type": "code",
   "execution_count": 1,
   "id": "757bc8c5-100b-450d-8cc4-19289bdbb9bd",
   "metadata": {},
   "outputs": [
    {
     "name": "stdout",
     "output_type": "stream",
     "text": [
      "12\n"
     ]
    }
   ],
   "source": [
    "gcd = lambda a, b: a if b == 0 else gcd(b, a % b)\n",
    "\n",
    "# Example usage\n",
    "num1 = 48\n",
    "num2 = 60\n",
    "result = gcd(num1, num2)\n",
    "print(result)\n"
   ]
  },
  {
   "cell_type": "code",
   "execution_count": null,
   "id": "dfcc9c91",
   "metadata": {},
   "outputs": [],
   "source": []
  }
 ],
 "metadata": {
  "kernelspec": {
   "display_name": "Python 3 (ipykernel)",
   "language": "python",
   "name": "python3"
  },
  "language_info": {
   "codemirror_mode": {
    "name": "ipython",
    "version": 3
   },
   "file_extension": ".py",
   "mimetype": "text/x-python",
   "name": "python",
   "nbconvert_exporter": "python",
   "pygments_lexer": "ipython3",
   "version": "3.11.4"
  }
 },
 "nbformat": 4,
 "nbformat_minor": 5
}
